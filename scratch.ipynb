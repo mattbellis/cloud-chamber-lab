{
 "cells": [
  {
   "cell_type": "code",
   "execution_count": null,
   "id": "c4198107",
   "metadata": {},
   "outputs": [],
   "source": [
    "import numpy as np\n",
    "import matplotlib.pylab as plt"
   ]
  },
  {
   "cell_type": "code",
   "execution_count": null,
   "id": "b95229a2",
   "metadata": {},
   "outputs": [],
   "source": [
    "data = np.loadtxt('30seconddata.csv', delimiter=',',skiprows=3,unpack=True,dtype=str)"
   ]
  },
  {
   "cell_type": "code",
   "execution_count": null,
   "id": "6d49de0b",
   "metadata": {},
   "outputs": [],
   "source": [
    "data"
   ]
  },
  {
   "cell_type": "code",
   "execution_count": null,
   "id": "2c17733a",
   "metadata": {},
   "outputs": [],
   "source": [
    "ncolumns =len(data)\n",
    "nrows = len(data[0])\n",
    "\n",
    "print(f\"ncolumns: {ncolumns}    nrows: {nrows}\")"
   ]
  },
  {
   "cell_type": "code",
   "execution_count": null,
   "id": "c8267dd9",
   "metadata": {},
   "outputs": [],
   "source": [
    "# The first column is t, then\n",
    "# x,y,mag,frame\n",
    "\n",
    "# The first column with the magnitude is index=3\n",
    "#data[3]\n",
    "#data[7]"
   ]
  },
  {
   "cell_type": "code",
   "execution_count": null,
   "id": "fdf55ad2",
   "metadata": {},
   "outputs": [],
   "source": [
    "# We have to grab the entries in every 4th column, starting at index=3,\n",
    "# but most are '' with nothing\n",
    "\n",
    "mags = []\n",
    "\n",
    "for i in range(3,105,4):\n",
    "    #print(i)\n",
    "    mask = data[i] != ''\n",
    "    mags.append(float(data[i][mask][0]))\n",
    "    \n",
    "mags = np.array(mags)\n",
    "\n",
    "mags"
   ]
  },
  {
   "cell_type": "code",
   "execution_count": null,
   "id": "da4dadd6",
   "metadata": {},
   "outputs": [],
   "source": [
    "plt.hist(mags, bins=15);"
   ]
  },
  {
   "cell_type": "code",
   "execution_count": null,
   "id": "bb56d2dc",
   "metadata": {},
   "outputs": [],
   "source": []
  }
 ],
 "metadata": {
  "kernelspec": {
   "display_name": "Python 3 (ipykernel)",
   "language": "python",
   "name": "python3"
  },
  "language_info": {
   "codemirror_mode": {
    "name": "ipython",
    "version": 3
   },
   "file_extension": ".py",
   "mimetype": "text/x-python",
   "name": "python",
   "nbconvert_exporter": "python",
   "pygments_lexer": "ipython3",
   "version": "3.9.17"
  }
 },
 "nbformat": 4,
 "nbformat_minor": 5
}
